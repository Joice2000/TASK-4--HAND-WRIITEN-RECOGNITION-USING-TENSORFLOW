{
 "cells": [
  {
   "cell_type": "markdown",
   "id": "0a7e38fe",
   "metadata": {},
   "source": [
    "# TASK - 4 "
   ]
  },
  {
   "cell_type": "markdown",
   "id": "21a35eb2",
   "metadata": {},
   "source": [
    "# HAND DIGIT RECOGNITION USING TENSORFLOW"
   ]
  },
  {
   "cell_type": "code",
   "execution_count": 2,
   "id": "e76e09b1",
   "metadata": {},
   "outputs": [],
   "source": [
    "## IMPORT THE NECESSARY PACKAGES AND DATASET\n",
    "\n",
    "import tensorflow as tf\n",
    "import numpy as np\n",
    "import matplotlib.pyplot as plt\n",
    "from keras.datasets import mnist\n",
    "from keras.models import Sequential\n",
    "from keras.layers import Dense\n",
    "from keras.layers import Dropout\n",
    "from keras.utils import np_utils"
   ]
  },
  {
   "cell_type": "code",
   "execution_count": 3,
   "id": "83ea3c2c",
   "metadata": {},
   "outputs": [],
   "source": [
    "## FIX RANDOM SEED FOR REPRODUCIBILITY\n",
    "\n",
    "seed = 7\n",
    "np.random.seed(seed)"
   ]
  },
  {
   "cell_type": "code",
   "execution_count": 4,
   "id": "13780af1",
   "metadata": {},
   "outputs": [],
   "source": [
    "## LOAD THE IMAGES FROM THE MNIST DATASET\n",
    "\n",
    "(x_train, y_train),(x_test, y_test) = mnist.load_data()"
   ]
  },
  {
   "cell_type": "code",
   "execution_count": 5,
   "id": "8a7e2545",
   "metadata": {},
   "outputs": [
    {
     "name": "stdout",
     "output_type": "stream",
     "text": [
      "training data: 60000\n",
      "testing data: 10000\n"
     ]
    }
   ],
   "source": [
    "## CHECKING THE SIZE OF THE DATASET\n",
    "\n",
    "print(\"training data: {}\".format(len(y_train)))\n",
    "print(\"testing data: {}\".format(len(y_test)))"
   ]
  },
  {
   "cell_type": "code",
   "execution_count": 6,
   "id": "7213a1ba",
   "metadata": {},
   "outputs": [
    {
     "data": {
      "text/plain": [
       "(28, 28)"
      ]
     },
     "execution_count": 6,
     "metadata": {},
     "output_type": "execute_result"
    }
   ],
   "source": [
    "## SHAPE OF THE DATASET\n",
    "\n",
    "x_train[0].shape"
   ]
  },
  {
   "cell_type": "code",
   "execution_count": 7,
   "id": "9595ecc8",
   "metadata": {},
   "outputs": [
    {
     "data": {
      "text/plain": [
       "array([7, 2, 1, 0, 4], dtype=uint8)"
      ]
     },
     "execution_count": 7,
     "metadata": {},
     "output_type": "execute_result"
    }
   ],
   "source": [
    "y_test[:5]"
   ]
  },
  {
   "cell_type": "code",
   "execution_count": 8,
   "id": "d1871f19",
   "metadata": {},
   "outputs": [
    {
     "data": {
      "text/plain": [
       "<matplotlib.image.AxesImage at 0x16fa7b95880>"
      ]
     },
     "execution_count": 8,
     "metadata": {},
     "output_type": "execute_result"
    },
    {
     "data": {
      "image/png": "[encoded data removed]",
      "text/plain": [
       "<Figure size 288x288 with 1 Axes>"
      ]
     },
     "metadata": {
      "needs_background": "light"
     },
     "output_type": "display_data"
    }
   ],
   "source": [
    "plt.matshow(x_train[0])"
   ]
  },
  {
   "cell_type": "code",
   "execution_count": 9,
   "id": "ce435909",
   "metadata": {},
   "outputs": [
    {
     "data": {
      "text/plain": [
       "(60000, 28, 28)"
      ]
     },
     "execution_count": 9,
     "metadata": {},
     "output_type": "execute_result"
    }
   ],
   "source": [
    "x_train.shape"
   ]
  },
  {
   "cell_type": "code",
   "execution_count": 10,
   "id": "b8245550",
   "metadata": {},
   "outputs": [],
   "source": [
    "## NORMALIZE THE INPUTS FROM 0-255 TO 0-1\n",
    "\n",
    "x_train = x_train / 255\n",
    "x_test = x_test / 255"
   ]
  },
  {
   "cell_type": "code",
   "execution_count": 11,
   "id": "048e5627",
   "metadata": {},
   "outputs": [],
   "source": [
    "## FLATTEN THE 28*28 IMAGES TO A 784 1D VECTOR FOR EACH IMAGE\n",
    "\n",
    "num_pixels= x_train.shape[1] * x_train.shape[2]\n",
    "x_train_flat = x_train.reshape(x_train.shape[0], num_pixels).astype('float32')\n",
    "x_test_flat = x_test.reshape(x_test.shape[0], num_pixels).astype('float32')"
   ]
  },
  {
   "cell_type": "code",
   "execution_count": 12,
   "id": "6310766c",
   "metadata": {},
   "outputs": [
    {
     "name": "stdout",
     "output_type": "stream",
     "text": [
      "No of classes: 10\n"
     ]
    }
   ],
   "source": [
    "## ONE HOT ENCODE OUTPUTS\n",
    "\n",
    "\n",
    "y_train = np_utils.to_categorical(y_train)\n",
    "y_test= np_utils.to_categorical(y_test)\n",
    "num_classes = y_test.shape[1]\n",
    "print(\"No of classes: %d\" % (num_classes))"
   ]
  },
  {
   "cell_type": "code",
   "execution_count": 13,
   "id": "330c09cf",
   "metadata": {},
   "outputs": [],
   "source": [
    "## DEFINE A MULTIPLAYER PERCEPTION BASELINE MODEL -1 HIDDEN LAYER AND 1 OUTPUT LAYER \n",
    "\n",
    "\n",
    "def baseline_model():\n",
    "    \n",
    "    \n",
    "    model = Sequential()\n",
    "    model.add(Dense(num_pixels, input_dim=num_pixels, kernel_initializer='normal',activation= 'softmax'))\n",
    "    model.add(Dense(num_classes, kernel_initializer= 'normal',activation='softmax'))\n",
    "    \n",
    "    model.compile(loss='categorical_crossentropy', optimizer='adam',metrics=['accuracy'])\n",
    "    return model\n",
    "    "
   ]
  },
  {
   "cell_type": "code",
   "execution_count": 14,
   "id": "cd0cb809",
   "metadata": {},
   "outputs": [],
   "source": [
    "## BUILD THE MODEL\n",
    "\n",
    "model = baseline_model()"
   ]
  },
  {
   "cell_type": "code",
   "execution_count": 17,
   "id": "12331e7d",
   "metadata": {},
   "outputs": [
    {
     "name": "stdout",
     "output_type": "stream",
     "text": [
      "Epoch 1/10\n",
      "300/300 [==============================] - 5s 15ms/step - loss: 0.2992 - accuracy: 0.9433 - val_loss: 0.3044 - val_accuracy: 0.9369\n",
      "Epoch 2/10\n",
      "300/300 [==============================] - 4s 15ms/step - loss: 0.2814 - accuracy: 0.9444 - val_loss: 0.2898 - val_accuracy: 0.9387\n",
      "Epoch 3/10\n",
      "300/300 [==============================] - 5s 15ms/step - loss: 0.2671 - accuracy: 0.9456 - val_loss: 0.2824 - val_accuracy: 0.9380\n",
      "Epoch 4/10\n",
      "300/300 [==============================] - 4s 15ms/step - loss: 0.2549 - accuracy: 0.9468 - val_loss: 0.2706 - val_accuracy: 0.9395\n",
      "Epoch 5/10\n",
      "300/300 [==============================] - 5s 15ms/step - loss: 0.2430 - accuracy: 0.9490 - val_loss: 0.2604 - val_accuracy: 0.9411\n",
      "Epoch 6/10\n",
      "300/300 [==============================] - 4s 15ms/step - loss: 0.2333 - accuracy: 0.9496 - val_loss: 0.2591 - val_accuracy: 0.9393\n",
      "Epoch 7/10\n",
      "300/300 [==============================] - 4s 15ms/step - loss: 0.2247 - accuracy: 0.9508 - val_loss: 0.2492 - val_accuracy: 0.9408\n",
      "Epoch 8/10\n",
      "300/300 [==============================] - 4s 15ms/step - loss: 0.2173 - accuracy: 0.9520 - val_loss: 0.2467 - val_accuracy: 0.9401\n",
      "Epoch 9/10\n",
      "300/300 [==============================] - 4s 15ms/step - loss: 0.2110 - accuracy: 0.9529 - val_loss: 0.2423 - val_accuracy: 0.9408\n",
      "Epoch 10/10\n",
      "300/300 [==============================] - 5s 15ms/step - loss: 0.2056 - accuracy: 0.9533 - val_loss: 0.2395 - val_accuracy: 0.9413\n"
     ]
    },
    {
     "data": {
      "text/plain": [
       "<tensorflow.python.keras.callbacks.History at 0x16fa6f16670>"
      ]
     },
     "execution_count": 17,
     "metadata": {},
     "output_type": "execute_result"
    }
   ],
   "source": [
    "## TRAIN AND VALIDATE THE MODEL \n",
    "## VERBOSE  VERBOSITY MODE (0 = SILENT, 1= PROGRESS BAR, 2 = ONE LINE PER EPOCH)\n",
    "\n",
    "model.fit(x_train_flat,y_train,validation_data=(x_test_flat,y_test),verbose= 1, epochs= 10,batch_size= 200)"
   ]
  },
  {
   "cell_type": "code",
   "execution_count": 18,
   "id": "b5b65f6f",
   "metadata": {},
   "outputs": [
    {
     "name": "stdout",
     "output_type": "stream",
     "text": [
      "accuracy: 94.13%\n",
      "Baseline Error: 5.87%\n"
     ]
    }
   ],
   "source": [
    "## FINAL EVALUATION OF THE MODEL\n",
    "\n",
    "scores= model.evaluate(x_test_flat,y_test, verbose=0)\n",
    "print(\"accuracy: %.2f%%\" %(scores[1]*100))\n",
    "print(\"Baseline Error: %.2f%%\" % (100-scores[1]*100))"
   ]
  },
  {
   "cell_type": "code",
   "execution_count": 19,
   "id": "3a817d62",
   "metadata": {},
   "outputs": [
    {
     "data": {
      "text/plain": [
       "<matplotlib.image.AxesImage at 0x16fa6fa3c40>"
      ]
     },
     "execution_count": 19,
     "metadata": {},
     "output_type": "execute_result"
    },
    {
     "data": {
      "image/png": "[encoded data removed]",
      "text/plain": [
       "<Figure size 288x288 with 1 Axes>"
      ]
     },
     "metadata": {
      "needs_background": "light"
     },
     "output_type": "display_data"
    }
   ],
   "source": [
    "plt.matshow(x_test[0])"
   ]
  },
  {
   "cell_type": "code",
   "execution_count": 20,
   "id": "d04e5a93",
   "metadata": {},
   "outputs": [
    {
     "data": {
      "text/plain": [
       "array([0.00139136, 0.00210674, 0.0040239 , 0.003292  , 0.00156543,\n",
       "       0.00169016, 0.00134586, 0.97599834, 0.00192269, 0.00666357],\n",
       "      dtype=float32)"
      ]
     },
     "execution_count": 20,
     "metadata": {},
     "output_type": "execute_result"
    }
   ],
   "source": [
    "y_predict=model.predict(x_test_flat)\n",
    "y_predict[0]\n"
   ]
  },
  {
   "cell_type": "code",
   "execution_count": 21,
   "id": "9165cddd",
   "metadata": {},
   "outputs": [
    {
     "data": {
      "text/plain": [
       "7"
      ]
     },
     "execution_count": 21,
     "metadata": {},
     "output_type": "execute_result"
    }
   ],
   "source": [
    "## TESTING A VALUE\n",
    "\n",
    "np.argmax(y_predict[0])"
   ]
  },
  {
   "cell_type": "code",
   "execution_count": 22,
   "id": "4074ec19",
   "metadata": {},
   "outputs": [
    {
     "data": {
      "text/plain": [
       "<matplotlib.image.AxesImage at 0x16fa700d1f0>"
      ]
     },
     "execution_count": 22,
     "metadata": {},
     "output_type": "execute_result"
    },
    {
     "data": {
      "image/png": "[encoded data removed]",
      "text/plain": [
       "<Figure size 288x288 with 1 Axes>"
      ]
     },
     "metadata": {
      "needs_background": "light"
     },
     "output_type": "display_data"
    }
   ],
   "source": [
    "plt.matshow(x_test[5])"
   ]
  },
  {
   "cell_type": "code",
   "execution_count": 23,
   "id": "c8d79373",
   "metadata": {},
   "outputs": [
    {
     "data": {
      "text/plain": [
       "array([0.00126311, 0.983489  , 0.00165266, 0.00161151, 0.0018639 ,\n",
       "       0.00160096, 0.00160325, 0.00218146, 0.00292446, 0.00180975],\n",
       "      dtype=float32)"
      ]
     },
     "execution_count": 23,
     "metadata": {},
     "output_type": "execute_result"
    }
   ],
   "source": [
    "y_predict[5]"
   ]
  },
  {
   "cell_type": "code",
   "execution_count": 24,
   "id": "9155ba6e",
   "metadata": {},
   "outputs": [
    {
     "data": {
      "text/plain": [
       "1"
      ]
     },
     "execution_count": 24,
     "metadata": {},
     "output_type": "execute_result"
    }
   ],
   "source": [
    "np.argmax(y_predict[5])"
   ]
  },
  {
   "cell_type": "code",
   "execution_count": null,
   "id": "be5788d4",
   "metadata": {},
   "outputs": [],
   "source": []
  }
 ],
 "metadata": {
  "kernelspec": {
   "display_name": "Python 3",
   "language": "python",
   "name": "python3"
  },
  "language_info": {
   "codemirror_mode": {
    "name": "ipython",
    "version": 3
   },
   "file_extension": ".py",
   "mimetype": "text/x-python",
   "name": "python",
   "nbconvert_exporter": "python",
   "pygments_lexer": "ipython3",
   "version": "3.8.8"
  }
 },
 "nbformat": 4,
 "nbformat_minor": 5
}
